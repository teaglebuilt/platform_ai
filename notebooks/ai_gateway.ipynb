{
 "cells": [
  {
   "cell_type": "code",
   "execution_count": 13,
   "metadata": {},
   "outputs": [
    {
     "name": "stdout",
     "output_type": "stream",
     "text": [
      "Error: 404 - \n"
     ]
    }
   ],
   "source": [
    "import json\n",
    "import requests\n",
    "\n",
    "AI_GATEWAY_URL = \"http://192.168.2.210\"\n",
    "response = requests.post(\n",
    "    f\"{AI_GATEWAY_URL}/api/chat\",\n",
    "    headers={\"x-ai-eg-model\": \"llama3:latest\", \"Content-Type\": \"application/json\"},\n",
    "    data=json.dumps({\"model\": \"llama3:latest\", \"messages\": [\n",
    "        { \"role\": \"user\", \"content\": \"hello there, how are you?\"}\n",
    "    ]})\n",
    ")\n",
    "if response.status_code == 200:\n",
    "    data = json.loads(response.text)\n",
    "    print(\"data\", data)\n",
    "else:\n",
    "    print(f\"Error: {response.status_code} - {response.text}\")"
   ]
  }
 ],
 "metadata": {
  "kernelspec": {
   "display_name": ".venv",
   "language": "python",
   "name": "python3"
  },
  "language_info": {
   "codemirror_mode": {
    "name": "ipython",
    "version": 3
   },
   "file_extension": ".py",
   "mimetype": "text/x-python",
   "name": "python",
   "nbconvert_exporter": "python",
   "pygments_lexer": "ipython3",
   "version": "3.12.1"
  }
 },
 "nbformat": 4,
 "nbformat_minor": 2
}

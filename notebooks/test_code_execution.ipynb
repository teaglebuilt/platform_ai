{
 "cells": [
  {
   "cell_type": "code",
   "execution_count": null,
   "metadata": {},
   "outputs": [],
   "source": [
    "from crewai import Agent, Task, Crew\n",
    "\n",
    "# Create an agent with code execution enabled\n",
    "coding_agent = Agent(\n",
    "    role=\"Python Data Analyst\",\n",
    "    goal=\"Analyze data and provide insights using Python\",\n",
    "    backstory=\"You are an experienced data analyst with strong Python skills.\",\n",
    "    allow_code_execution=True\n",
    ")\n",
    "\n",
    "# Create a task that requires code execution\n",
    "data_analysis_task = Task(\n",
    "    description=\"Analyze the given dataset and calculate the average age of participants.\",\n",
    "    agent=coding_agent,\n",
    "    expected_output=\"\"\n",
    ")\n",
    "\n",
    "# Create a crew and add the task\n",
    "analysis_crew = Crew(\n",
    "    agents=[coding_agent],\n",
    "    tasks=[data_analysis_task]\n",
    ")\n",
    "\n",
    "# Execute the crew\n",
    "result = analysis_crew.kickoff()"
   ]
  }
 ],
 "metadata": {
  "kernelspec": {
   "display_name": ".venv",
   "language": "python",
   "name": "python3"
  },
  "language_info": {
   "name": "python",
   "version": "3.12.1"
  }
 },
 "nbformat": 4,
 "nbformat_minor": 2
}
